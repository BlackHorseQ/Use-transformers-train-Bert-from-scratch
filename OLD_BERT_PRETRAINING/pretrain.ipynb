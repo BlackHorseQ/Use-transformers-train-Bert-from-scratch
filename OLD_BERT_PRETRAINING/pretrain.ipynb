{
 "cells": [
  {
   "cell_type": "code",
   "execution_count": 11,
   "metadata": {},
   "outputs": [],
   "source": [
    "import pandas as pd\n",
    "from pathlib import Path\n",
    "from torch import nn\n",
    "from tokenizers import ByteLevelBPETokenizer\n",
    "from tqdm import tqdm\n",
    "from transformers import BertConfig, BertForPreTraining\n",
    "from torch.utils.data import Dataset, DataLoader\n",
    "import random\n",
    "import numpy as np\n",
    "import torch"
   ]
  },
  {
   "cell_type": "code",
   "execution_count": 2,
   "metadata": {},
   "outputs": [],
   "source": [
    "train = pd.read_csv('gaiic_track3_round1_train_20210228.tsv',sep='\\t', names=['text_a', 'text_b', 'label'])\n",
    "test = pd.read_csv('gaiic_track3_round1_testA_20210228.tsv',sep='\\t', names=['text_a', 'text_b', 'label'])\n",
    "test['label'] = 0"
   ]
  },
  {
   "cell_type": "code",
   "execution_count": 3,
   "metadata": {},
   "outputs": [
    {
     "name": "stderr",
     "output_type": "stream",
     "text": [
      "100%|██████████| 25000/25000 [00:00<00:00, 31906.66it/s]\n",
      "100%|██████████| 100000/100000 [00:03<00:00, 33251.36it/s]\n"
     ]
    }
   ],
   "source": [
    "##训练集和测试集造字典\n",
    "from collections import defaultdict\n",
    "def get_dict(data):\n",
    "    words_dict = defaultdict(int)\n",
    "    for i in tqdm(range(data.shape[0])):\n",
    "        text = data.text_a.iloc[i].split() + data.text_b.iloc[i].split()\n",
    "        for c in text:\n",
    "            words_dict[c] += 1\n",
    "    return words_dict\n",
    "test_dict = get_dict(test)\n",
    "train_dict = get_dict(train)\n",
    "word_dict = list(test_dict.keys()) + list(train_dict.keys())\n",
    "word_dict = set(word_dict)\n",
    "word_dict = set(map(int, word_dict))\n",
    "word_dict = list(word_dict)\n",
    "special_tokens = [\"[PAD]\",\"[UNK]\",\"[CLS]\",\"[SEP]\",\"[MASK]\"]\n",
    "WORDS = special_tokens + word_dict\n",
    "pd.Series(WORDS).to_csv('Bert-vocab.txt', header=False,index=0)"
   ]
  },
  {
   "cell_type": "code",
   "execution_count": 4,
   "metadata": {},
   "outputs": [],
   "source": [
    "class BERTDataset(Dataset):\n",
    "    \n",
    "    def __init__(self, corpus_path:str, vocab:dict, seq_len:int=128): \n",
    "        self.vocab = vocab\n",
    "        self.seq_len = seq_len\n",
    "        self.corpus_path = corpus_path\n",
    "        self.lines = pd.read_csv(corpus_path, sep='\\t', names=['text_a', 'text_b', 'label'])\n",
    "        self.corpus_lines = self.lines.shape[0]\n",
    "    def __len__(self):\n",
    "        return self.corpus_lines\n",
    "\n",
    "    def __getitem__(self, idx):\n",
    "        t1, t2, is_next_label = self.get_sentence(idx)\n",
    "        t1_random, t1_label = self.random_word(t1)\n",
    "        t2_random, t2_label = self.random_word(t2)\n",
    "\n",
    "        t1 = [self.vocab['[CLS]']] + t1_random + [self.vocab['[SEP]']]\n",
    "        t2 = t2_random + [self.vocab['[SEP]']]\n",
    "        t1_label = [self.vocab['[PAD]']] + t1_label + [self.vocab['[PAD]']]\n",
    "        t2_label = t2_label + [self.vocab['[PAD]']]\n",
    "\n",
    "        segment_label = ([0 for _ in range(len(t1))] + [1 for _ in range(len(t2))])[:self.seq_len]\n",
    "        bert_input = (t1 + t2)[:self.seq_len]\n",
    "        bert_label = (t1_label + t2_label)[:self.seq_len]\n",
    "\n",
    "        padding = [self.vocab['[PAD]'] for _ in range(self.seq_len - len(bert_input))]\n",
    "        attention_mask = len(bert_input) * [1] + len(padding) * [0]\n",
    "        bert_input.extend(padding), bert_label.extend(padding), segment_label.extend(padding)\n",
    "        attention_mask = np.array(attention_mask)\n",
    "        bert_input = np.array(bert_input)\n",
    "        segment_label = np.array(segment_label)\n",
    "        bert_label = np.array(bert_label)\n",
    "        is_next_label = np.array(is_next_label)\n",
    "        output = {\"input_ids\": bert_input,\n",
    "                  \"token_type_ids\": segment_label,\n",
    "                  'attention_mask': attention_mask,\n",
    "                  \"bert_label\": bert_label}, is_next_label\n",
    "        return output\n",
    "    def random_word(self, sentence):\n",
    "        import random\n",
    "        tokens = sentence.split()\n",
    "        output_label = []\n",
    "        for i, token in enumerate(tokens):\n",
    "            prob = random.random()\n",
    "            if prob < 0.15:\n",
    "                prob /= 0.15\n",
    "\n",
    "                # 80% \n",
    "                if prob < 0.8:\n",
    "                    tokens[i] = self.vocab['[MASK]']\n",
    "\n",
    "                # 10%\n",
    "                elif prob < 0.9:\n",
    "                    tokens[i] = random.randrange(len(self.vocab))\n",
    "\n",
    "                # 10% \n",
    "                else:\n",
    "                    tokens[i] = self.vocab.get(token, self.vocab['[UNK]'])\n",
    "\n",
    "                output_label.append(self.vocab.get(token, self.vocab['[UNK]']))\n",
    "\n",
    "            else:\n",
    "                tokens[i] = self.vocab.get(token, self.vocab['[UNK]'])\n",
    "                output_label.append(-100)\n",
    "        return tokens, output_label\n",
    "\n",
    "    def get_sentence(self, idx):\n",
    "        \n",
    "        t1, t2, _ = self.lines.iloc[idx].values\n",
    "        if random.random() > 0.5:\n",
    "            return t1, t2, 1\n",
    "        else:\n",
    "            return t1, self.lines.iloc[random.randrange(self.lines.shape[0])].values[1], 0"
   ]
  },
  {
   "cell_type": "code",
   "execution_count": 5,
   "metadata": {},
   "outputs": [],
   "source": [
    "vocab = pd.read_csv('Bert-vocab.txt', names=['word'])\n",
    "vocab_dict = {}\n",
    "for key, value in vocab.word.to_dict().items():\n",
    "    vocab_dict[value] = key\n",
    "pretrain_dataset = BERTDataset('gaiic_track3_round1_train_20210228.tsv', vocab_dict, 64)\n",
    "prevalid_dataset = BERTDataset('gaiic_track3_round1_testA_20210228.tsv', vocab_dict, 64)"
   ]
  },
  {
   "cell_type": "code",
   "execution_count": 7,
   "metadata": {},
   "outputs": [],
   "source": [
    "train_loader = DataLoader(pretrain_dataset, batch_size=64)\n",
    "valid_loader = DataLoader(prevalid_dataset, batch_size=64)"
   ]
  },
  {
   "cell_type": "code",
   "execution_count": 8,
   "metadata": {},
   "outputs": [],
   "source": [
    "def evaluate(model, data_loader,  device='cuda'):\n",
    "    model.eval()\n",
    "    losses = []\n",
    "    losses = []\n",
    "    pbar = tqdm(data_loader)\n",
    "    for data_label in pbar:\n",
    "        data = data_label[0]\n",
    "        next_sentence_label = data_label[1].to(device).long()\n",
    "\n",
    "        input_ids = data['input_ids'].to(device).long()\n",
    "        token_type_ids = data['token_type_ids'].to(device).long()\n",
    "        attention_mask =  data['attention_mask'].to(device).long()\n",
    "        labels = data['bert_label'].to(device).long()\n",
    "        optim.zero_grad()\n",
    "        outputs = model(input_ids= input_ids, token_type_ids=token_type_ids, attention_mask=attention_mask,\n",
    "                       labels =labels, next_sentence_label= next_sentence_label)\n",
    "        loss = outputs['loss']\n",
    "        losses.append(loss.cpu().detach().numpy())\n",
    "    loss = np.mean(losses)\n",
    "    return loss"
   ]
  },
  {
   "cell_type": "code",
   "execution_count": null,
   "metadata": {},
   "outputs": [],
   "source": [
    "device = 'cuda' if torch.cuda.is_available() else 'cpu'\n",
    "# device = 'cpu'\n",
    "\n",
    "config = BertConfig(vocab_size=len(WORDS)+1)\n",
    "model = BertForPreTraining(config)\n",
    "model = model.to(device)\n",
    "# model=nn.DataParallel(model,device_ids=[0,1])\n",
    "optim = torch.optim.Adam(model.parameters(), lr=2e-5)\n",
    "criterion  = nn.CrossEntropyLoss()"
   ]
  },
  {
   "cell_type": "code",
   "execution_count": 9,
   "metadata": {},
   "outputs": [
    {
     "name": "stderr",
     "output_type": "stream",
     "text": [
      "epoch:0 loss:0.979644238948822: 100%|██████████| 1563/1563 [10:28<00:00,  2.49it/s] \n",
      "100%|██████████| 391/391 [00:56<00:00,  6.94it/s]\n",
      "  0%|          | 0/1563 [00:00<?, ?it/s]"
     ]
    },
    {
     "name": "stdout",
     "output_type": "stream",
     "text": [
      "=*=*=*=*=*=*=*=*=*=*=*=*=*=*=*=*=*=*=*=*=*=*=*=*=*=*=*=*=*=*=*=*=*=*=*=*=*=*=*=*=*=*=*=*=*=*=*=*=*=*\n",
      "valid loss: 0.8919439\n",
      "=*=*=*=*=*=*=*=*=*=*=*=*=*=*=*=*=*=*=*=*=*=*=*=*=*=*=*=*=*=*=*=*=*=*=*=*=*=*=*=*=*=*=*=*=*=*=*=*=*=*\n"
     ]
    },
    {
     "name": "stderr",
     "output_type": "stream",
     "text": [
      "epoch:1 loss:0.8072299957275391: 100%|██████████| 1563/1563 [10:24<00:00,  2.50it/s]\n",
      "100%|██████████| 391/391 [00:56<00:00,  6.93it/s]\n",
      "  0%|          | 0/1563 [00:00<?, ?it/s]"
     ]
    },
    {
     "name": "stdout",
     "output_type": "stream",
     "text": [
      "=*=*=*=*=*=*=*=*=*=*=*=*=*=*=*=*=*=*=*=*=*=*=*=*=*=*=*=*=*=*=*=*=*=*=*=*=*=*=*=*=*=*=*=*=*=*=*=*=*=*\n",
      "valid loss: 0.7250575\n",
      "=*=*=*=*=*=*=*=*=*=*=*=*=*=*=*=*=*=*=*=*=*=*=*=*=*=*=*=*=*=*=*=*=*=*=*=*=*=*=*=*=*=*=*=*=*=*=*=*=*=*\n"
     ]
    },
    {
     "name": "stderr",
     "output_type": "stream",
     "text": [
      "epoch:2 loss:0.696567177772522: 100%|██████████| 1563/1563 [10:25<00:00,  2.50it/s] \n",
      "100%|██████████| 391/391 [00:56<00:00,  6.92it/s]\n",
      "  0%|          | 0/1563 [00:00<?, ?it/s]"
     ]
    },
    {
     "name": "stdout",
     "output_type": "stream",
     "text": [
      "=*=*=*=*=*=*=*=*=*=*=*=*=*=*=*=*=*=*=*=*=*=*=*=*=*=*=*=*=*=*=*=*=*=*=*=*=*=*=*=*=*=*=*=*=*=*=*=*=*=*\n",
      "valid loss: 0.6793177\n",
      "=*=*=*=*=*=*=*=*=*=*=*=*=*=*=*=*=*=*=*=*=*=*=*=*=*=*=*=*=*=*=*=*=*=*=*=*=*=*=*=*=*=*=*=*=*=*=*=*=*=*\n"
     ]
    },
    {
     "name": "stderr",
     "output_type": "stream",
     "text": [
      "epoch:3 loss:0.6096216440200806: 100%|██████████| 1563/1563 [10:26<00:00,  2.49it/s]\n",
      "100%|██████████| 391/391 [00:56<00:00,  6.91it/s]\n",
      "  0%|          | 0/1563 [00:00<?, ?it/s]"
     ]
    },
    {
     "name": "stdout",
     "output_type": "stream",
     "text": [
      "=*=*=*=*=*=*=*=*=*=*=*=*=*=*=*=*=*=*=*=*=*=*=*=*=*=*=*=*=*=*=*=*=*=*=*=*=*=*=*=*=*=*=*=*=*=*=*=*=*=*\n",
      "valid loss: 0.5539732\n",
      "=*=*=*=*=*=*=*=*=*=*=*=*=*=*=*=*=*=*=*=*=*=*=*=*=*=*=*=*=*=*=*=*=*=*=*=*=*=*=*=*=*=*=*=*=*=*=*=*=*=*\n"
     ]
    },
    {
     "name": "stderr",
     "output_type": "stream",
     "text": [
      "epoch:4 loss:0.5201584100723267: 100%|██████████| 1563/1563 [10:28<00:00,  2.49it/s]\n",
      "100%|██████████| 391/391 [00:56<00:00,  6.86it/s]"
     ]
    },
    {
     "name": "stdout",
     "output_type": "stream",
     "text": [
      "=*=*=*=*=*=*=*=*=*=*=*=*=*=*=*=*=*=*=*=*=*=*=*=*=*=*=*=*=*=*=*=*=*=*=*=*=*=*=*=*=*=*=*=*=*=*=*=*=*=*\n",
      "valid loss: 0.5030493\n",
      "=*=*=*=*=*=*=*=*=*=*=*=*=*=*=*=*=*=*=*=*=*=*=*=*=*=*=*=*=*=*=*=*=*=*=*=*=*=*=*=*=*=*=*=*=*=*=*=*=*=*\n"
     ]
    },
    {
     "name": "stderr",
     "output_type": "stream",
     "text": [
      "\n"
     ]
    }
   ],
   "source": [
    "NUM_EPOCHS = 5\n",
    "for epoch  in range(NUM_EPOCHS):\n",
    "    pbar = tqdm(train_loader)\n",
    "    losses = []\n",
    "    for data_label in pbar:\n",
    "        data = data_label[0]\n",
    "        next_sentence_label = data_label[1].to(device).long()\n",
    "\n",
    "        input_ids = data['input_ids'].to(device).long()\n",
    "        token_type_ids = data['token_type_ids'].to(device).long()\n",
    "        attention_mask =  data['attention_mask'].to(device).long()\n",
    "        labels = data['bert_label'].to(device).long()\n",
    "        optim.zero_grad()\n",
    "        outputs = model(input_ids= input_ids, token_type_ids=token_type_ids, attention_mask=attention_mask,\n",
    "                       labels =labels, next_sentence_label= next_sentence_label)\n",
    "        loss = outputs['loss']\n",
    "        losses.append(loss.cpu().detach().numpy())\n",
    "        loss.backward()\n",
    "        optim.step()\n",
    "        pbar.set_description(f'epoch:{epoch} loss:{np.mean(losses)}')\n",
    "    loss = evaluate(model,valid_loader)\n",
    "    print('=*'*50)\n",
    "    print('valid loss:', loss)\n",
    "    print('=*'*50)"
   ]
  },
  {
   "cell_type": "code",
   "execution_count": 10,
   "metadata": {},
   "outputs": [],
   "source": [
    "import torch\n",
    "##torch 1.7, 为了使1.4以下版本也能使用\n",
    "torch.save(model.state_dict(), f'preTrainModel{loss:.3f}.pth', _use_new_zipfile_serialization=False)"
   ]
  },
  {
   "cell_type": "code",
   "execution_count": null,
   "metadata": {},
   "outputs": [],
   "source": []
  }
 ],
 "metadata": {
  "kernelspec": {
   "display_name": "torch ",
   "language": "python",
   "name": "torch"
  },
  "language_info": {
   "codemirror_mode": {
    "name": "ipython",
    "version": 3
   },
   "file_extension": ".py",
   "mimetype": "text/x-python",
   "name": "python",
   "nbconvert_exporter": "python",
   "pygments_lexer": "ipython3",
   "version": "3.8.5"
  }
 },
 "nbformat": 4,
 "nbformat_minor": 4
}
