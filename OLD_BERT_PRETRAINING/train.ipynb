{
 "cells": [
  {
   "cell_type": "code",
   "execution_count": 1,
   "metadata": {},
   "outputs": [],
   "source": [
    "import pandas as pd\n",
    "from transformers import BertForSequenceClassification\n",
    "from torch.utils.data import Dataset, DataLoader\n",
    "from tqdm import tqdm\n",
    "import numpy as np\n",
    "import torch\n",
    "from torch import nn\n",
    "from sklearn.metrics import accuracy_score, auc\n",
    "from sklearn.model_selection import train_test_split\n",
    "from transformers import BertConfig, BertForPreTraining\n",
    "import os\n",
    "import random\n",
    "def seed_everything(seed = 42):\n",
    "    random.seed(seed)\n",
    "    np.random.seed(seed)\n",
    "    os.environ['PYTHONHASHSEED'] = str(seed)\n",
    "    torch.manual_seed(seed)\n",
    "    torch.set_deterministic(True)\n",
    "    torch.cuda.manual_seed_all(seed)\n",
    "#     torch.backends.cudnn.deterministic = True\n",
    "seed_everything()\n",
    "os.environ['CUDA_VISIBLE_DEVICES'] = '1'"
   ]
  },
  {
   "cell_type": "code",
   "execution_count": 2,
   "metadata": {},
   "outputs": [],
   "source": [
    "train = pd.read_csv('gaiic_track3_round1_train_20210228.tsv',sep='\\t', names=['text_a', 'text_b', 'label'])\n",
    "test = pd.read_csv('gaiic_track3_round1_testA_20210228.tsv',sep='\\t', names=['text_a', 'text_b', 'label'])\n",
    "test['label'] = 0"
   ]
  },
  {
   "cell_type": "code",
   "execution_count": 3,
   "metadata": {},
   "outputs": [
    {
     "name": "stderr",
     "output_type": "stream",
     "text": [
      "100%|██████████| 25000/25000 [00:00<00:00, 35193.70it/s]\n",
      "100%|██████████| 100000/100000 [00:02<00:00, 35187.95it/s]\n"
     ]
    }
   ],
   "source": [
    "##查看训练集和测试集中字\n",
    "from collections import defaultdict\n",
    "def get_dict(data):\n",
    "    words_dict = defaultdict(int)\n",
    "    for i in tqdm(range(data.shape[0])):\n",
    "        text = data.text_a.iloc[i].split() + data.text_b.iloc[i].split()\n",
    "        for c in text:\n",
    "            words_dict[c] += 1\n",
    "    return words_dict\n",
    "test_dict = get_dict(test)\n",
    "train_dict = get_dict(train)\n",
    "word_dict = list(test_dict.keys()) + list(train_dict.keys())\n",
    "word_dict = set(word_dict)\n",
    "word_dict = set(map(int, word_dict))\n",
    "word_dict = list(word_dict)\n",
    "special_tokens = [\"[PAD]\",\"[UNK]\",\"[CLS]\",\"[SEP]\",\"[MASK]\"]\n",
    "WORDS = special_tokens + word_dict\n",
    "pd.Series(WORDS).to_csv('Bert-vocab.txt', header=False,index=0)\n",
    "vocab = pd.read_csv('Bert-vocab.txt', names=['word'])\n",
    "vocab_dict = {}\n",
    "for key, value in vocab.word.to_dict().items():\n",
    "    vocab_dict[value] = key"
   ]
  },
  {
   "cell_type": "code",
   "execution_count": 4,
   "metadata": {},
   "outputs": [
    {
     "data": {
      "text/plain": [
       "<All keys matched successfully>"
      ]
     },
     "execution_count": 4,
     "metadata": {},
     "output_type": "execute_result"
    }
   ],
   "source": [
    "device = 'cuda' if torch.cuda.is_available() else 'cpu'\n",
    "config = BertConfig(vocab_size=len(WORDS)+1)\n",
    "model = BertForPreTraining(config)\n",
    "model.load_state_dict(torch.load('test.pth',  map_location=device))"
   ]
  },
  {
   "cell_type": "code",
   "execution_count": 5,
   "metadata": {},
   "outputs": [],
   "source": [
    "class BERTModel(nn.Module):\n",
    "    def __init__(self, model:BertForPreTraining):\n",
    "        super(BERTModel, self).__init__()\n",
    "        self.model = model.bert\n",
    "        self.transform = model.cls.predictions.transform\n",
    "        self.linear = nn.Linear(in_features=768, out_features=2)\n",
    "    def forward(self, inputs_ids, token_type_ids, attention_mask):\n",
    "        x = self.model(inputs_ids, token_type_ids, attention_mask)\n",
    "        pooler_output = x.pooler_output\n",
    "        last_hidden_state = x.last_hidden_state\n",
    "#         x = self.transform(x)\n",
    "        \n",
    "        x = self.linear(pooler_output)\n",
    "        return x"
   ]
  },
  {
   "cell_type": "code",
   "execution_count": 6,
   "metadata": {},
   "outputs": [],
   "source": [
    "class OPPODataset(Dataset):\n",
    "    def __init__(self, data, word_dict,seq_length=50):\n",
    "        '''\n",
    "        data:dataFrame()\n",
    "        '''\n",
    "        self.data = data\n",
    "        self.vocab = word_dict\n",
    "        self.seq_len = seq_length\n",
    "    def __len__(self):\n",
    "        return self.data.shape[0]\n",
    "    def __getitem__(self, index):\n",
    "        '''\n",
    "        transformers 中可以用BertTokenizer实现下面的方法但是有一些不灵活\n",
    "        transoformers格式\n",
    "        0 0 0 0 0 0 0 0 0 0 0 1 1 1 1 1 1 1 1 1\n",
    "        | first sequence    | second sequence |\n",
    "        '''\n",
    "        text_a, text_b, label = self.data.iloc[index].values\n",
    "        text_a = self.get_sentence(text_a)\n",
    "        text_b = self.get_sentence(text_b)\n",
    "        text_a = [self.vocab['[CLS]']] + text_a + [self.vocab['[SEP]']]\n",
    "        text_b = text_b + [self.vocab['[SEP]']]\n",
    "\n",
    "        token_type_ids = ([0 for _ in range(len(text_a))] + [1 for _ in range(len(text_b))])[:self.seq_len]\n",
    "        text = (text_a + text_b)[:self.seq_len]\n",
    "\n",
    "        padding = [self.vocab['[PAD]'] for _ in range(self.seq_len - len(text))]\n",
    "        attention_mask = len(text) * [1]\n",
    "        \n",
    "        text.extend(padding), token_type_ids.extend(padding), attention_mask.extend(padding)\n",
    "        attention_mask = np.array(attention_mask)\n",
    "        text = np.array(text)\n",
    "        token_type_ids = np.array(token_type_ids)\n",
    "#         print(text.shape, token_type_ids.shape, attention_mask.shape)\n",
    "        return {\n",
    "                'input_ids': text,\n",
    "                'token_type_ids': token_type_ids,\n",
    "                'attention_mask': attention_mask,\n",
    "               }, self.data.label.iloc[index]\n",
    "    def get_sentence(self, sentence):\n",
    "        tokens = sentence.split()\n",
    "        for i in range(len(tokens)):\n",
    "            tokens[i] = self.vocab.get(tokens[i], self.vocab['[UNK]'])\n",
    "        return tokens"
   ]
  },
  {
   "cell_type": "code",
   "execution_count": 7,
   "metadata": {},
   "outputs": [],
   "source": [
    "train_index, valid_index = train_test_split(range(train.shape[0]), test_size=0.2)\n",
    "train_dataset = OPPODataset(train.iloc[train_index],vocab_dict,64)\n",
    "valid_dataset = OPPODataset(train.iloc[valid_index],vocab_dict, 64)\n",
    "test_dataset = OPPODataset(test, vocab_dict, 64)"
   ]
  },
  {
   "cell_type": "code",
   "execution_count": 8,
   "metadata": {},
   "outputs": [],
   "source": [
    "train_loader = DataLoader(train_dataset, batch_size=64, shuffle=False)\n",
    "valid_loader = DataLoader(valid_dataset, batch_size=64, shuffle=False)\n",
    "test_loader = DataLoader(test_dataset, batch_size=64, shuffle=False)"
   ]
  },
  {
   "cell_type": "code",
   "execution_count": 9,
   "metadata": {},
   "outputs": [],
   "source": [
    "def evaluate(model, data_loader,  device='cuda'):\n",
    "    model.eval()\n",
    "    losses = []\n",
    "    labels_list = []\n",
    "    preds_list = []\n",
    "    for data_labels in tqdm(data_loader):\n",
    "        data = data_labels[0]\n",
    "        labels = data_labels[1]\n",
    "        inputs_ids = data['input_ids'].to(device).long()\n",
    "        token_type_ids = data['token_type_ids'].to(device).long()\n",
    "        attention_mask = data['attention_mask'].to(device).long()\n",
    "        preds = model(inputs_ids, token_type_ids, attention_mask)\n",
    "        preds = torch.softmax(preds, dim=-1)\n",
    "        preds_list.append(preds.argmax(-1).cpu().detach().numpy())\n",
    "        labels_list.append(labels.cpu().detach().numpy())\n",
    "#         break\n",
    "#         print(preds, labels)\n",
    "    results = np.concatenate(preds_list)\n",
    "    labels = np.concatenate(labels_list)\n",
    "    acc = accuracy_score(labels, results)\n",
    "    return acc, results, labels"
   ]
  },
  {
   "cell_type": "code",
   "execution_count": 12,
   "metadata": {},
   "outputs": [],
   "source": [
    "nums_epoch = 10\n",
    "device = 'cuda' if torch.cuda.is_available() else 'cpu'\n",
    "BertModel = BERTModel(model)\n",
    "BertModel = BertModel.to(device)\n",
    "criterion = nn.CrossEntropyLoss()\n",
    "criterion = criterion.to(device)\n",
    "optim = torch.optim.Adam(BertModel.parameters(), lr=2e-5)"
   ]
  },
  {
   "cell_type": "code",
   "execution_count": null,
   "metadata": {},
   "outputs": [
    {
     "name": "stderr",
     "output_type": "stream",
     "text": [
      "epoch:0 loss:0.5324667096138: 100%|██████████| 1250/1250 [07:05<00:00,  2.93it/s]   \n",
      "100%|██████████| 313/313 [00:35<00:00,  8.81it/s]\n"
     ]
    },
    {
     "name": "stdout",
     "output_type": "stream",
     "text": [
      "=*=*=*=*=*=*=*=*=*=*=*=*=*=*=*=*=*=*=*=*=*=*=*=*=*=*=*=*=*=*=*=*=*=*=*=*=*=*=*=*=*=*=*=*=*=*=*=*=*=*\n",
      "epoch:0, valid_acc(0.73905, array([0, 0, 1, ..., 0, 0, 0]), array([0, 0, 0, ..., 1, 1, 0]))\n",
      "=*=*=*=*=*=*=*=*=*=*=*=*=*=*=*=*=*=*=*=*=*=*=*=*=*=*=*=*=*=*=*=*=*=*=*=*=*=*=*=*=*=*=*=*=*=*=*=*=*=*\n"
     ]
    },
    {
     "name": "stderr",
     "output_type": "stream",
     "text": [
      "epoch:1 loss:0.48770350217819214: 100%|██████████| 1250/1250 [07:06<00:00,  2.93it/s]\n",
      "100%|██████████| 313/313 [00:35<00:00,  8.83it/s]\n"
     ]
    },
    {
     "name": "stdout",
     "output_type": "stream",
     "text": [
      "=*=*=*=*=*=*=*=*=*=*=*=*=*=*=*=*=*=*=*=*=*=*=*=*=*=*=*=*=*=*=*=*=*=*=*=*=*=*=*=*=*=*=*=*=*=*=*=*=*=*\n",
      "epoch:1, valid_acc(0.74255, array([0, 0, 1, ..., 0, 1, 0]), array([0, 0, 0, ..., 1, 1, 0]))\n",
      "=*=*=*=*=*=*=*=*=*=*=*=*=*=*=*=*=*=*=*=*=*=*=*=*=*=*=*=*=*=*=*=*=*=*=*=*=*=*=*=*=*=*=*=*=*=*=*=*=*=*\n"
     ]
    },
    {
     "name": "stderr",
     "output_type": "stream",
     "text": [
      "epoch:2 loss:0.45609021186828613:   2%|▏         | 20/1250 [00:06<06:57,  2.95it/s]"
     ]
    }
   ],
   "source": [
    "best_acc = 0\n",
    "for epoch in range(nums_epoch):\n",
    "    BertModel.train()\n",
    "    losses = []\n",
    "    pbar = tqdm(train_loader)\n",
    "    for data_labels in pbar:\n",
    "        data = data_labels[0]\n",
    "        labels = data_labels[1]\n",
    "        inputs_ids = data['input_ids'].to(device).long()\n",
    "        token_type_ids = data['token_type_ids'].to(device).long()\n",
    "        attention_mask = data['attention_mask'].to(device).long()\n",
    "        optim.zero_grad()\n",
    "        labels =labels.to(device).long()\n",
    "        preds = BertModel(inputs_ids, token_type_ids, attention_mask)\n",
    "        loss = criterion(preds, labels)\n",
    "        losses.append(loss.cpu().detach().numpy())\n",
    "        loss.backward()\n",
    "        optim.step()\n",
    "        pbar.set_description(f'epoch:{epoch} loss:{np.mean(losses)}')\n",
    "    valid_acc=evaluate(BertModel, valid_loader)\n",
    "    print('=*'*50)\n",
    "    print(f'epoch:{epoch}, valid_acc{valid_acc}')\n",
    "    print('=*'*50)\n",
    "    if valid_acc[0] > best_acc:\n",
    "        best_acc = valid_acc[0]\n",
    "        torch.save(BertModel.state_dict(), f'BertModel.pth', _use_new_zipfile_serialization=False)"
   ]
  }
 ],
 "metadata": {
  "kernelspec": {
   "display_name": "torch ",
   "language": "python",
   "name": "torch"
  },
  "language_info": {
   "codemirror_mode": {
    "name": "ipython",
    "version": 3
   },
   "file_extension": ".py",
   "mimetype": "text/x-python",
   "name": "python",
   "nbconvert_exporter": "python",
   "pygments_lexer": "ipython3",
   "version": "3.8.5"
  }
 },
 "nbformat": 4,
 "nbformat_minor": 4
}
