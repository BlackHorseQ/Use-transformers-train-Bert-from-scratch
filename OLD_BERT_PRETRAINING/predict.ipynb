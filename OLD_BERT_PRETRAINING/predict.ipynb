{
 "cells": [
  {
   "cell_type": "code",
   "execution_count": 3,
   "metadata": {},
   "outputs": [
    {
     "name": "stderr",
     "output_type": "stream",
     "text": [
      "100%|██████████| 25000/25000 [00:00<00:00, 32278.44it/s]\n",
      "100%|██████████| 100000/100000 [00:02<00:00, 35736.99it/s]\n"
     ]
    }
   ],
   "source": [
    "import pandas as pd\n",
    "from transformers import BertForSequenceClassification\n",
    "from torch.utils.data import Dataset, DataLoader\n",
    "from tqdm import tqdm\n",
    "import numpy as np\n",
    "import torch\n",
    "from torch import nn\n",
    "from sklearn.metrics import accuracy_score, auc\n",
    "from sklearn.model_selection import train_test_split\n",
    "from transformers import BertConfig, BertForPreTraining\n",
    "def get_result(model, data_loader,  device='cuda'):\n",
    "    model.eval()\n",
    "    model = model.to(device)\n",
    "    losses = []\n",
    "    labels_list = []\n",
    "    preds_list = []\n",
    "    for data_labels in tqdm(data_loader):\n",
    "        data = data_labels[0]\n",
    "        \n",
    "        inputs_ids = data['input_ids'].to(device).long()\n",
    "        token_type_ids = data['token_type_ids'].to(device).long()\n",
    "        attention_mask = data['attention_mask'].to(device).long()\n",
    "        preds = model(inputs_ids, token_type_ids, attention_mask)\n",
    "        \n",
    "        preds = torch.softmax(preds, dim=-1)\n",
    "        preds_list.append(preds.cpu().detach().numpy())\n",
    "    results = np.concatenate(preds_list)\n",
    "    return results\n",
    "##查看训练集和测试集中字\n",
    "test = pd.read_csv('gaiic_track3_round1_testA_20210228.tsv',sep='\\t', names=['text_a', 'text_b', 'label'])\n",
    "train = pd.read_csv('gaiic_track3_round1_train_20210228.tsv',sep='\\t', names=['text_a', 'text_b', 'label'])\n",
    "test['label'] = 0\n",
    "from collections import defaultdict\n",
    "def get_dict(data):\n",
    "    words_dict = defaultdict(int)\n",
    "    for i in tqdm(range(data.shape[0])):\n",
    "        text = data.text_a.iloc[i].split() + data.text_b.iloc[i].split()\n",
    "        for c in text:\n",
    "            words_dict[c] += 1\n",
    "    return words_dict\n",
    "test_dict = get_dict(test)\n",
    "train_dict = get_dict(train)\n",
    "word_dict = list(test_dict.keys()) + list(train_dict.keys())\n",
    "word_dict = set(word_dict)\n",
    "word_dict = set(map(int, word_dict))\n",
    "word_dict = list(word_dict)\n",
    "special_tokens = [\"[PAD]\",\"[UNK]\",\"[CLS]\",\"[SEP]\",\"[MASK]\"]\n",
    "WORDS = special_tokens + word_dict\n",
    "pd.Series(WORDS).to_csv('Bert-vocab.txt', header=False,index=0)\n",
    "vocab = pd.read_csv('Bert-vocab.txt', names=['word'])\n",
    "vocab_dict = {}\n",
    "for key, value in vocab.word.to_dict().items():\n",
    "    vocab_dict[value] = key"
   ]
  },
  {
   "cell_type": "code",
   "execution_count": 4,
   "metadata": {},
   "outputs": [],
   "source": [
    "class BERTModel(nn.Module):\n",
    "    def __init__(self, model:BertForPreTraining):\n",
    "        super(BERTModel, self).__init__()\n",
    "        self.model = model.bert\n",
    "        self.transform = model.cls.predictions.transform\n",
    "        self.linear = nn.Linear(in_features=768, out_features=2)\n",
    "    def forward(self, inputs_ids, token_type_ids, attention_mask):\n",
    "        x = self.model(inputs_ids, token_type_ids, attention_mask)\n",
    "        pooler_output = x.pooler_output\n",
    "        last_hidden_state = x.last_hidden_state\n",
    "        \n",
    "        x = self.linear(pooler_output)\n",
    "        return x\n",
    "class OPPODataset(Dataset):\n",
    "    def __init__(self, data, word_dict,seq_length=50):\n",
    "        '''\n",
    "        data:dataFrame()\n",
    "        '''\n",
    "        self.data = data\n",
    "        self.vocab = word_dict\n",
    "        self.seq_len = seq_length\n",
    "    def __len__(self):\n",
    "        return self.data.shape[0]\n",
    "    def __getitem__(self, index):\n",
    "        '''\n",
    "        transformers 中可以用BertTokenizer实现下面的方法但是有一些不灵活\n",
    "        transoformers格式\n",
    "        0 0 0 0 0 0 0 0 0 0 0 1 1 1 1 1 1 1 1 1\n",
    "        | first sequence    | second sequence |\n",
    "        '''\n",
    "        text_a, text_b, label = self.data.iloc[index].values\n",
    "        text_a = self.get_sentence(text_a)\n",
    "        text_b = self.get_sentence(text_b)\n",
    "        text_a = [self.vocab['[CLS]']] + text_a + [self.vocab['[SEP]']]\n",
    "        text_b = text_b + [self.vocab['[SEP]']]\n",
    "\n",
    "        token_type_ids = ([0 for _ in range(len(text_a))] + [1 for _ in range(len(text_b))])[:self.seq_len]\n",
    "        text = (text_a + text_b)[:self.seq_len]\n",
    "\n",
    "        padding = [self.vocab['[PAD]'] for _ in range(self.seq_len - len(text))]\n",
    "        attention_mask = len(text) * [1]\n",
    "        \n",
    "        text.extend(padding), token_type_ids.extend(padding), attention_mask.extend(padding)\n",
    "        attention_mask = np.array(attention_mask)\n",
    "        text = np.array(text)\n",
    "        token_type_ids = np.array(token_type_ids)\n",
    "        return {\n",
    "                'input_ids': text,\n",
    "                'token_type_ids': token_type_ids,\n",
    "                'attention_mask': attention_mask,\n",
    "               }, self.data.label.iloc[index]\n",
    "    def get_sentence(self, sentence):\n",
    "        tokens = sentence.split()\n",
    "        for i in range(len(tokens)):\n",
    "            tokens[i] = self.vocab.get(tokens[i], self.vocab['[UNK]'])\n",
    "        return tokens"
   ]
  },
  {
   "cell_type": "code",
   "execution_count": 5,
   "metadata": {},
   "outputs": [],
   "source": [
    "device = 'cuda' if torch.cuda.is_available() else 'cpu'\n",
    "config = BertConfig(vocab_size=len(WORDS)+1)\n",
    "model = BertForPreTraining(config)\n",
    "BertModel = BERTModel(model)\n",
    "BertModel.load_state_dict(torch.load('BertModel.pth',  map_location=device))\n",
    "BertModel = BertModel.to(device)\n",
    "\n",
    "test_dataset = OPPODataset(test, vocab_dict, seq_length=64)\n",
    "test_loader = DataLoader(test_dataset, batch_size=64, shuffle=False)"
   ]
  },
  {
   "cell_type": "code",
   "execution_count": 6,
   "metadata": {},
   "outputs": [
    {
     "name": "stderr",
     "output_type": "stream",
     "text": [
      "100%|██████████| 391/391 [00:43<00:00,  8.98it/s]\n"
     ]
    }
   ],
   "source": [
    "result = get_result(BertModel, test_loader)\n",
    "test['label'] = result[:, 1]\n",
    "test['label'].to_csv('sub.tsv', sep='\\t', index=0, header=False)"
   ]
  },
  {
   "cell_type": "code",
   "execution_count": null,
   "metadata": {},
   "outputs": [],
   "source": []
  }
 ],
 "metadata": {
  "kernelspec": {
   "display_name": "torch ",
   "language": "python",
   "name": "torch"
  },
  "language_info": {
   "codemirror_mode": {
    "name": "ipython",
    "version": 3
   },
   "file_extension": ".py",
   "mimetype": "text/x-python",
   "name": "python",
   "nbconvert_exporter": "python",
   "pygments_lexer": "ipython3",
   "version": "3.8.5"
  }
 },
 "nbformat": 4,
 "nbformat_minor": 4
}
