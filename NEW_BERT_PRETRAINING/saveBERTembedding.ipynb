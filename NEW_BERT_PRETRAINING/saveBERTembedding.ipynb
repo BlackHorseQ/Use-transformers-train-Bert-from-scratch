{
 "cells": [
  {
   "cell_type": "code",
   "execution_count": null,
   "metadata": {},
   "outputs": [],
   "source": [
    "from transformers import BertForSequenceClassification\n",
    "from torch.utils.data import Dataset, DataLoader\n",
    "import torch\n",
    "from torch import nn\n",
    "from transformers import BertConfig, BertForPreTraining, BertModel\n",
    "device = 'cuda' if torch.cuda.is_available() else 'cpu'\n",
    "model = BertModel.from_pretrained('bert-base-chinese')\n",
    "torch.save(model.embeddings.word_embeddings.state_dict(), 'embeddingBert.pth')"
   ]
  }
 ],
 "metadata": {
  "kernelspec": {
   "display_name": "torch ",
   "language": "python",
   "name": "torch"
  },
  "language_info": {
   "codemirror_mode": {
    "name": "ipython",
    "version": 3
   },
   "file_extension": ".py",
   "mimetype": "text/x-python",
   "name": "python",
   "nbconvert_exporter": "python",
   "pygments_lexer": "ipython3",
   "version": "3.8.5"
  }
 },
 "nbformat": 4,
 "nbformat_minor": 4
}
