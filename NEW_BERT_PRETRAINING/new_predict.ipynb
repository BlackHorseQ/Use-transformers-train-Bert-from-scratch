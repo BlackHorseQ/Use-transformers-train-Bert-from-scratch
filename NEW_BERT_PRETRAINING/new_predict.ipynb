{
 "cells": [
  {
   "cell_type": "code",
   "execution_count": 8,
   "metadata": {},
   "outputs": [
    {
     "name": "stderr",
     "output_type": "stream",
     "text": [
      "100%|██████████| 125000/125000 [00:03<00:00, 35393.14it/s]\n"
     ]
    }
   ],
   "source": [
    "import pandas as pd\n",
    "from transformers import BertForSequenceClassification\n",
    "from torch.utils.data import Dataset, DataLoader\n",
    "from tqdm import tqdm\n",
    "import numpy as np\n",
    "import torch\n",
    "from torch import nn\n",
    "from sklearn.metrics import accuracy_score, auc\n",
    "from sklearn.model_selection import train_test_split\n",
    "from transformers import BertConfig, BertForPreTraining, BertModel\n",
    "import json\n",
    "def get_result(model, data_loader,  device='cuda'):\n",
    "    model.eval()\n",
    "    model = model.to(device)\n",
    "    losses = []\n",
    "    labels_list = []\n",
    "    preds_list = []\n",
    "    data_dict = {}\n",
    "    for data_labels in tqdm(data_loader):\n",
    "        data = data_labels[0]\n",
    "        \n",
    "        next_sentence_label = data_labels[1].to(device).long()\n",
    "        data_dict['input_ids'] = data['input_ids'].to(device).long()\n",
    "        data_dict['token_type_ids'] = data['token_type_ids'].to(device).long()\n",
    "        data_dict['attention_mask'] =  data['attention_mask'].to(device).long()\n",
    "        outputs = model(data_dict)\n",
    "        preds = outputs[:,0,5:7].cpu().detach().numpy()\n",
    "        preds = preds[:, 1] / (preds.sum(axis=1) + 1e-8)\n",
    "        preds_list.append(preds)\n",
    "    results = np.concatenate(preds_list)\n",
    "    return results\n",
    "import os\n",
    "os.environ['CUDA_VISIBLE_DEVICES'] = '1'\n",
    "##查看训练集和测试集中字\n",
    "train = pd.read_csv('./data/gaiic_track3_round1_train_20210228.tsv',sep='\\t', names=['text_a', 'text_b', 'label'])\n",
    "test = pd.read_csv('data/gaiic_track3_round1_testA_20210228.tsv',sep='\\t', names=['text_a', 'text_b', 'label'])\n",
    "test['label'] = 2\n",
    "from collections import defaultdict\n",
    "def get_dict(data):\n",
    "    words_dict = defaultdict(int)\n",
    "    for i in tqdm(range(data.shape[0])):\n",
    "        text = data.text_a.iloc[i].split() + data.text_b.iloc[i].split()\n",
    "        for c in text:\n",
    "            words_dict[c] += 1\n",
    "    return words_dict\n",
    "word_dict = get_dict(train.append(test))\n",
    "min_count = 5\n",
    "word_dict =  {i: j for i, j in word_dict.items() if j >= min_count}\n",
    "word_dict = dict(sorted(word_dict.items(), key=lambda s: -s[1]))\n",
    "word_dict = list(word_dict.keys())\n",
    "special_tokens = [\"[PAD]\",\"[UNK]\",\"[CLS]\",\"[SEP]\",\"[MASK]\", \"sim\", 'sim_no', 'unlabeled']\n",
    "WORDS = special_tokens + word_dict\n",
    "pd.Series(WORDS).to_csv('Bert-vocab.txt', header=False,index=0)\n",
    "vocab = pd.read_csv('Bert-vocab.txt', names=['word'])\n",
    "vocab_dict = {}\n",
    "for key, value in vocab.word.to_dict().items():\n",
    "    vocab_dict[value] = key"
   ]
  },
  {
   "cell_type": "code",
   "execution_count": 12,
   "metadata": {},
   "outputs": [],
   "source": [
    "class PretrainedBERT(nn.Module):\n",
    "    def __init__(self, embeding_size=6933, embedding_dim=768, maxlen=64, checkpoint_path='embeddingBert.pth',keep_tokens=None):\n",
    "        super(PretrainedBERT, self).__init__()\n",
    "#         self.bert = BertModel(BertConfig(embeding_size))\n",
    "        self.bert = BertModel.from_pretrained('bert-base-chinese')\n",
    "        self.lr = nn.Linear(in_features=embedding_dim, out_features=768)\n",
    "        self.layer_norm = nn.LayerNorm((maxlen, embedding_dim))\n",
    "        self.lr1 = nn.Linear(in_features=768, out_features=embeding_size)\n",
    "        ##使用bert的预训练embedding作为初始化embedding\n",
    "        if keep_tokens is not None:\n",
    "            self.embedding = nn.Embedding(embeding_size, embedding_dim)\n",
    "            weight = torch.load('embeddingBert.pth')\n",
    "            weight = nn.Parameter(weight['weight'][keep_tokens])\n",
    "            self.embedding.weight = weight\n",
    "            self.bert.embeddings.word_embeddings = self.embedding\n",
    "    def forward(self, x):\n",
    "        x = self.bert(**x)\n",
    "        x = self.lr(x['last_hidden_state'])\n",
    "        x = self.layer_norm(x)\n",
    "        x = self.lr1(x)\n",
    "        return x\n",
    "class OPPODataset(Dataset):\n",
    "    def __init__(self, data, word_dict,seq_length=50):\n",
    "        '''\n",
    "        data:dataFrame()\n",
    "        '''\n",
    "        self.data = data\n",
    "        self.vocab = word_dict\n",
    "        self.seq_len = seq_length\n",
    "    def __len__(self):\n",
    "        return self.data.shape[0]\n",
    "    def __getitem__(self, index):\n",
    "        '''\n",
    "        transformers 中可以用BertTokenizer实现下面的方法但是有一些不灵活\n",
    "        transoformers格式\n",
    "        0 0 0 0 0 0 0 0 0 0 0 1 1 1 1 1 1 1 1 1\n",
    "        | first sequence    | second sequence |\n",
    "        '''\n",
    "        text_a, text_b, label = self.data.iloc[index].values\n",
    "        text_a = self.get_sentence(text_a)\n",
    "        text_b = self.get_sentence(text_b)\n",
    "        text_a = [self.vocab['[CLS]']] + text_a + [self.vocab['[SEP]']]\n",
    "        text_b = text_b + [self.vocab['[SEP]']]\n",
    "\n",
    "        token_type_ids = ([0 for _ in range(len(text_a))] + [1 for _ in range(len(text_b))])[:self.seq_len]\n",
    "        text = (text_a + text_b)[:self.seq_len]\n",
    "\n",
    "        padding = [self.vocab['[PAD]'] for _ in range(self.seq_len - len(text))]\n",
    "        attention_mask = len(text) * [1]\n",
    "        \n",
    "        text.extend(padding), token_type_ids.extend(padding), attention_mask.extend(padding)\n",
    "        attention_mask = np.array(attention_mask)\n",
    "        text = np.array(text)\n",
    "        token_type_ids = np.array(token_type_ids)\n",
    "        return {\n",
    "                'input_ids': text,\n",
    "                'token_type_ids': token_type_ids,\n",
    "                'attention_mask': attention_mask,\n",
    "               }, self.data.label.iloc[index]\n",
    "    def get_sentence(self, sentence):\n",
    "        tokens = sentence.split()\n",
    "        for i in range(len(tokens)):\n",
    "            tokens[i] = self.vocab.get(tokens[i], self.vocab['[UNK]'])\n",
    "        return tokens"
   ]
  },
  {
   "cell_type": "code",
   "execution_count": 13,
   "metadata": {},
   "outputs": [
    {
     "name": "stdout",
     "output_type": "stream",
     "text": [
      "<_io.TextIOWrapper name='bert-base-chinese-1/vocab.txt' mode='r' encoding='UTF-8'>\n"
     ]
    }
   ],
   "source": [
    "with open('bert-base-chinese-1/vocab.txt', 'r') as f:\n",
    "    print(f)\n",
    "    lines = f.read()\n",
    "    tokens = lines.split('\\n')\n",
    "token_dict = dict(zip(tokens, range(len(tokens))))\n",
    "counts = json.load(open('counts.json'))\n",
    "del counts['[CLS]']\n",
    "del counts['[SEP]']\n",
    "freqs = [\n",
    "    counts.get(i, 0) for i, j in sorted(token_dict.items(), key=lambda s: s[1])\n",
    "]\n",
    "keep_tokens = list(np.argsort(freqs)[::-1])\n",
    "keep_tokens = [0, 100, 101, 102, 103, 6, 7, 8] + keep_tokens[:len(vocab_dict)]"
   ]
  },
  {
   "cell_type": "code",
   "execution_count": 15,
   "metadata": {},
   "outputs": [],
   "source": [
    "device = 'cuda' if torch.cuda.is_available() else 'cpu'\n",
    "model = PretrainedBERT(embeding_size=len(vocab_dict), keep_tokens=keep_tokens)\n",
    "model.load_state_dict(torch.load('pretrainBERT/preTrainModel0.923.pth',  map_location=device))\n",
    "model = model.to(device)\n",
    "\n",
    "test_dataset = OPPODataset(test, vocab_dict, seq_length=64)\n",
    "test_loader = DataLoader(test_dataset, batch_size=64, shuffle=False)"
   ]
  },
  {
   "cell_type": "code",
   "execution_count": 16,
   "metadata": {},
   "outputs": [
    {
     "name": "stderr",
     "output_type": "stream",
     "text": [
      "100%|██████████| 391/391 [00:45<00:00,  8.58it/s]\n"
     ]
    }
   ],
   "source": [
    "result = get_result(model, test_loader)"
   ]
  },
  {
   "cell_type": "code",
   "execution_count": 17,
   "metadata": {},
   "outputs": [],
   "source": [
    "test['label'] = result\n",
    "test['label'].to_csv('sub38.tsv', sep='\\t', index=0, header=False)"
   ]
  },
  {
   "cell_type": "code",
   "execution_count": null,
   "metadata": {},
   "outputs": [],
   "source": []
  }
 ],
 "metadata": {
  "kernelspec": {
   "display_name": "torch ",
   "language": "python",
   "name": "torch"
  },
  "language_info": {
   "codemirror_mode": {
    "name": "ipython",
    "version": 3
   },
   "file_extension": ".py",
   "mimetype": "text/x-python",
   "name": "python",
   "nbconvert_exporter": "python",
   "pygments_lexer": "ipython3",
   "version": "3.8.5"
  }
 },
 "nbformat": 4,
 "nbformat_minor": 4
}
